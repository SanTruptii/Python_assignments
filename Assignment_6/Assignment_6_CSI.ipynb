{
  "nbformat": 4,
  "nbformat_minor": 0,
  "metadata": {
    "colab": {
      "provenance": []
    },
    "kernelspec": {
      "name": "python3",
      "display_name": "Python 3"
    },
    "language_info": {
      "name": "python"
    }
  },
  "cells": [
    {
      "cell_type": "markdown",
      "source": [
        "Import Necessary Libraries"
      ],
      "metadata": {
        "id": "44CicW0LXnaa"
      }
    },
    {
      "cell_type": "code",
      "execution_count": 4,
      "metadata": {
        "id": "dikvo-TvW-Bl"
      },
      "outputs": [],
      "source": [
        "import pandas as pd\n",
        "import numpy as np\n",
        "import seaborn as sns\n",
        "import matplotlib.pyplot as plt\n",
        "from sklearn.model_selection import train_test_split, cross_val_score, GridSearchCV, RandomizedSearchCV\n",
        "from sklearn.preprocessing import StandardScaler, LabelEncoder, OneHotEncoder\n",
        "from sklearn.impute import SimpleImputer\n",
        "from sklearn.decomposition import PCA\n",
        "from sklearn.discriminant_analysis import LinearDiscriminantAnalysis as LDA\n",
        "from sklearn.manifold import TSNE\n",
        "from sklearn.metrics import accuracy_score, confusion_matrix, classification_report, roc_auc_score, roc_curve\n",
        "from sklearn.ensemble import RandomForestClassifier\n",
        "from sklearn.linear_model import LogisticRegression\n",
        "from sklearn.neural_network import MLPClassifier\n",
        "from sklearn.metrics import mean_squared_error, r2_score\n",
        "import warnings\n",
        "warnings.filterwarnings('ignore')\n"
      ]
    },
    {
      "cell_type": "markdown",
      "source": [
        "Load and Preprocess Data"
      ],
      "metadata": {
        "id": "IiIfSXcGXu9p"
      }
    },
    {
      "cell_type": "code",
      "source": [
        "def load_data():\n",
        "    train = pd.read_csv(\"train.csv\")\n",
        "    test = pd.read_csv(\"test.csv\")\n",
        "    return train, test\n",
        "\n",
        "train_df, test_df = load_data()\n",
        "\n",
        "# Handling Missing Values\n",
        "def handle_missing_values(dataframe):\n",
        "    imputer = SimpleImputer(strategy='median')\n",
        "    dataframe['Age'] = imputer.fit_transform(dataframe[['Age']])\n",
        "    dataframe['Fare'] = imputer.fit_transform(dataframe[['Fare']])\n",
        "    dataframe['Embarked'].fillna(dataframe['Embarked'].mode()[0], inplace=True)\n",
        "    if 'Cabin' in dataframe.columns:\n",
        "        dataframe.drop('Cabin', axis=1, inplace=True)\n",
        "    return dataframe\n",
        "\n",
        "train_df = handle_missing_values(train_df)\n",
        "test_df = handle_missing_values(test_df)\n",
        "\n",
        "# Encoding Categorical Variables\n",
        "def encode_categorical(dataframe):\n",
        "    dataframe['Sex'] = dataframe['Sex'].map({'male': 0, 'female': 1})\n",
        "    dataframe = pd.get_dummies(dataframe, columns=['Embarked'], drop_first=True)\n",
        "    return dataframe\n",
        "\n",
        "train_df = encode_categorical(train_df)\n",
        "test_df = encode_categorical(test_df)\n"
      ],
      "metadata": {
        "id": "fwqD3Dv2W_yV"
      },
      "execution_count": 5,
      "outputs": []
    },
    {
      "cell_type": "markdown",
      "source": [
        "Feature Engineering"
      ],
      "metadata": {
        "id": "pdgRxJn1XyRZ"
      }
    },
    {
      "cell_type": "code",
      "source": [
        "def generate_features(dataframe):\n",
        "    dataframe['FamilySize'] = dataframe['SibSp'] + dataframe['Parch'] + 1\n",
        "    dataframe['IsAlone'] = 1\n",
        "    dataframe['IsAlone'].loc[dataframe['FamilySize'] > 1] = 0\n",
        "    dataframe['Title'] = dataframe['Name'].apply(lambda x: x.split(',')[1].split('.')[0].strip())\n",
        "    dataframe['Title'] = dataframe['Title'].replace(['Lady', 'the Countess','Countess','Capt', 'Col','Don', 'Dr',\n",
        "                                                     'Major', 'Rev', 'Sir', 'Jonkheer', 'Dona'], 'Rare')\n",
        "    dataframe['Title'] = dataframe['Title'].replace('Mlle', 'Miss')\n",
        "    dataframe['Title'] = dataframe['Title'].replace('Ms', 'Miss')\n",
        "    dataframe['Title'] = dataframe['Title'].replace('Mme', 'Mrs')\n",
        "    dataframe = pd.get_dummies(dataframe, columns=['Title'], drop_first=True)\n",
        "    return dataframe\n",
        "\n",
        "train_df = generate_features(train_df)\n",
        "test_df = generate_features(test_df)\n",
        "\n",
        "# Scaling Numerical Features\n",
        "def scale_numerical(train_df, test_df):\n",
        "    scaler = StandardScaler()\n",
        "    numerical_cols = ['Age', 'Fare', 'FamilySize']\n",
        "    train_df[numerical_cols] = scaler.fit_transform(train_df[numerical_cols])\n",
        "    test_df[numerical_cols] = scaler.transform(test_df[numerical_cols])\n",
        "    return train_df, test_df\n",
        "\n",
        "train_df, test_df = scale_numerical(train_df, test_df)\n"
      ],
      "metadata": {
        "id": "uM7Jh_54XE-W"
      },
      "execution_count": 6,
      "outputs": []
    },
    {
      "cell_type": "markdown",
      "source": [
        "Feature Selection"
      ],
      "metadata": {
        "id": "NKA5dGKWX4ay"
      }
    },
    {
      "cell_type": "code",
      "source": [
        "# Drop columns not needed for modeling\n",
        "def drop_columns(dataframe):\n",
        "    return dataframe.drop(['PassengerId', 'Name', 'Ticket'], axis=1)\n",
        "\n",
        "train_df = drop_columns(train_df)\n",
        "test_df = drop_columns(test_df)\n"
      ],
      "metadata": {
        "id": "v35PKLI1XNwK"
      },
      "execution_count": 7,
      "outputs": []
    },
    {
      "cell_type": "markdown",
      "source": [
        "Train-Test Split"
      ],
      "metadata": {
        "id": "OwbqlKeDX7Vl"
      }
    },
    {
      "cell_type": "code",
      "source": [
        "X = train_df.drop('Survived', axis=1)\n",
        "y = train_df['Survived']\n",
        "X_train, X_valid, y_train, y_valid = train_test_split(X, y, test_size=0.2, random_state=42)\n"
      ],
      "metadata": {
        "id": "ClPPTaD8XPTg"
      },
      "execution_count": 8,
      "outputs": []
    },
    {
      "cell_type": "markdown",
      "source": [
        "Dimensionality Reduction: PCA, LDA, t-SNE"
      ],
      "metadata": {
        "id": "WTucFv0iX-Z5"
      }
    },
    {
      "cell_type": "code",
      "source": [
        "# PCA\n",
        "pca = PCA(n_components=2)\n",
        "X_train_pca = pca.fit_transform(X_train)\n",
        "X_valid_pca = pca.transform(X_valid)\n",
        "print(f'Explained Variance Ratio (PCA): {pca.explained_variance_ratio_}')\n",
        "\n",
        "# LDA\n",
        "lda = LDA(n_components=1)\n",
        "X_train_lda = lda.fit_transform(X_train, y_train)\n",
        "X_valid_lda = lda.transform(X_valid)\n",
        "\n",
        "# t-SNE\n",
        "tsne = TSNE(n_components=2, random_state=42)\n",
        "X_train_tsne = tsne.fit_transform(X_train)\n",
        "X_valid_tsne = tsne.fit_transform(X_valid)\n"
      ],
      "metadata": {
        "colab": {
          "base_uri": "https://localhost:8080/"
        },
        "id": "MbYdGCg4XRiT",
        "outputId": "2e4878ab-0486-44d3-9da1-6effd79dec9d"
      },
      "execution_count": 9,
      "outputs": [
        {
          "output_type": "stream",
          "name": "stdout",
          "text": [
            "Explained Variance Ratio (PCA): [0.41282569 0.21477912]\n"
          ]
        }
      ]
    },
    {
      "cell_type": "markdown",
      "source": [
        "Model Training and Hyperparameter Tuning"
      ],
      "metadata": {
        "id": "fPLmHQrlYBut"
      }
    },
    {
      "cell_type": "code",
      "source": [
        "# Random Forest Classifier\n",
        "rf_model = RandomForestClassifier(random_state=42)\n",
        "rf_model.fit(X_train, y_train)\n",
        "y_valid_pred = rf_model.predict(X_valid)\n",
        "\n",
        "# Evaluate model\n",
        "accuracy = accuracy_score(y_valid, y_valid_pred)\n",
        "print(f'Validation Accuracy: {accuracy:.2f}')\n",
        "\n",
        "# Hyperparameter Tuning using Grid Search\n",
        "param_grid = {\n",
        "    'n_estimators': [100, 200, 300],\n",
        "    'max_depth': [None, 10, 20, 30],\n",
        "    'min_samples_split': [2, 5, 10],\n",
        "    'min_samples_leaf': [1, 2, 4]\n",
        "}\n",
        "grid_search = GridSearchCV(estimator=rf_model, param_grid=param_grid, cv=5, scoring='accuracy', n_jobs=-1)\n",
        "grid_search.fit(X_train, y_train)\n",
        "best_rf_model = grid_search.best_estimator_\n",
        "y_valid_pred_best = best_rf_model.predict(X_valid)\n",
        "accuracy_best = accuracy_score(y_valid, y_valid_pred_best)\n",
        "print(f'Best Validation Accuracy: {accuracy_best:.2f}')\n"
      ],
      "metadata": {
        "colab": {
          "base_uri": "https://localhost:8080/"
        },
        "id": "AA2_585iXTN3",
        "outputId": "3df4fada-3693-4abc-f12b-3f603f484156"
      },
      "execution_count": 10,
      "outputs": [
        {
          "output_type": "stream",
          "name": "stdout",
          "text": [
            "Validation Accuracy: 0.83\n",
            "Best Validation Accuracy: 0.82\n"
          ]
        }
      ]
    },
    {
      "cell_type": "markdown",
      "source": [
        "Model Evaluation Metrics"
      ],
      "metadata": {
        "id": "6wWR0SgsYBmE"
      }
    },
    {
      "cell_type": "code",
      "source": [
        "# Confusion Matrix and Classification Report\n",
        "conf_matrix = confusion_matrix(y_valid, y_valid_pred_best)\n",
        "class_report = classification_report(y_valid, y_valid_pred_best)\n",
        "print(\"Confusion Matrix:\\n\", conf_matrix)\n",
        "print(\"\\nClassification Report:\\n\", class_report)\n",
        "\n",
        "# ROC Curve and AUC Score\n",
        "fpr, tpr, thresholds = roc_curve(y_valid, best_rf_model.predict_proba(X_valid)[:,1])\n",
        "roc_auc = roc_auc_score(y_valid, best_rf_model.predict_proba(X_valid)[:,1])\n",
        "print(f'ROC AUC Score: {roc_auc:.2f}')\n",
        "\n",
        "plt.figure()\n",
        "plt.plot(fpr, tpr, color='darkorange', lw=2, label=f'ROC curve (area = {roc_auc:.2f})')\n",
        "plt.plot([0, 1], [0, 1], color='navy', lw=2, linestyle='--')\n",
        "plt.xlim([0.0, 1.0])\n",
        "plt.ylim([0.0, 1.05])\n",
        "plt.xlabel('False Positive Rate')\n",
        "plt.ylabel('True Positive Rate')\n",
        "plt.title('Receiver Operating Characteristic')\n",
        "plt.legend(loc=\"lower right\")\n",
        "plt.show()\n"
      ],
      "metadata": {
        "colab": {
          "base_uri": "https://localhost:8080/",
          "height": 732
        },
        "id": "QbUb45qhXVqT",
        "outputId": "1e125a8a-a3ac-4646-9a8e-90d510c962bf"
      },
      "execution_count": 11,
      "outputs": [
        {
          "output_type": "stream",
          "name": "stdout",
          "text": [
            "Confusion Matrix:\n",
            " [[93 12]\n",
            " [20 54]]\n",
            "\n",
            "Classification Report:\n",
            "               precision    recall  f1-score   support\n",
            "\n",
            "           0       0.82      0.89      0.85       105\n",
            "           1       0.82      0.73      0.77        74\n",
            "\n",
            "    accuracy                           0.82       179\n",
            "   macro avg       0.82      0.81      0.81       179\n",
            "weighted avg       0.82      0.82      0.82       179\n",
            "\n",
            "ROC AUC Score: 0.91\n"
          ]
        },
        {
          "output_type": "display_data",
          "data": {
            "text/plain": [
              "<Figure size 640x480 with 1 Axes>"
            ],
            "image/png": "[encoded data removed]"
          },
          "metadata": {}
        }
      ]
    }
  ]
}