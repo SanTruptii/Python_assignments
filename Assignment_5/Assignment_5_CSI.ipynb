{
  "nbformat": 4,
  "nbformat_minor": 0,
  "metadata": {
    "colab": {
      "provenance": []
    },
    "kernelspec": {
      "name": "python3",
      "display_name": "Python 3"
    },
    "language_info": {
      "name": "python"
    }
  },
  "cells": [
    {
      "cell_type": "code",
      "execution_count": 1,
      "metadata": {
        "id": "M1MEMrN_EAx1"
      },
      "outputs": [],
      "source": [
        "import pandas as pd\n",
        "import numpy as np\n",
        "import seaborn as sns\n",
        "import matplotlib.pyplot as plt\n",
        "from sklearn.preprocessing import StandardScaler, LabelEncoder\n",
        "from sklearn.impute import SimpleImputer\n",
        "from sklearn.model_selection import train_test_split\n"
      ]
    },
    {
      "cell_type": "code",
      "source": [
        "def load_data():\n",
        "    train = pd.read_csv(\"train.csv\")\n",
        "    test = pd.read_csv(\"test.csv\")\n",
        "    return train, test\n",
        "\n",
        "train_df, test_df = load_data()\n",
        "print(train_df.head())\n",
        "print(test_df.head())\n"
      ],
      "metadata": {
        "colab": {
          "base_uri": "https://localhost:8080/"
        },
        "id": "b8zuf075Hp4D",
        "outputId": "4d5895e1-cd6d-4cdb-f97b-778582b4774c"
      },
      "execution_count": 2,
      "outputs": [
        {
          "output_type": "stream",
          "name": "stdout",
          "text": [
            "   PassengerId  Survived  Pclass  \\\n",
            "0            1         0       3   \n",
            "1            2         1       1   \n",
            "2            3         1       3   \n",
            "3            4         1       1   \n",
            "4            5         0       3   \n",
            "\n",
            "                                                Name     Sex   Age  SibSp  \\\n",
            "0                            Braund, Mr. Owen Harris    male  22.0      1   \n",
            "1  Cumings, Mrs. John Bradley (Florence Briggs Th...  female  38.0      1   \n",
            "2                             Heikkinen, Miss. Laina  female  26.0      0   \n",
            "3       Futrelle, Mrs. Jacques Heath (Lily May Peel)  female  35.0      1   \n",
            "4                           Allen, Mr. William Henry    male  35.0      0   \n",
            "\n",
            "   Parch            Ticket     Fare Cabin Embarked  \n",
            "0      0         A/5 21171   7.2500   NaN        S  \n",
            "1      0          PC 17599  71.2833   C85        C  \n",
            "2      0  STON/O2. 3101282   7.9250   NaN        S  \n",
            "3      0            113803  53.1000  C123        S  \n",
            "4      0            373450   8.0500   NaN        S  \n",
            "   PassengerId  Pclass                                          Name     Sex  \\\n",
            "0          892       3                              Kelly, Mr. James    male   \n",
            "1          893       3              Wilkes, Mrs. James (Ellen Needs)  female   \n",
            "2          894       2                     Myles, Mr. Thomas Francis    male   \n",
            "3          895       3                              Wirz, Mr. Albert    male   \n",
            "4          896       3  Hirvonen, Mrs. Alexander (Helga E Lindqvist)  female   \n",
            "\n",
            "    Age  SibSp  Parch   Ticket     Fare Cabin Embarked  \n",
            "0  34.5      0      0   330911   7.8292   NaN        Q  \n",
            "1  47.0      1      0   363272   7.0000   NaN        S  \n",
            "2  62.0      0      0   240276   9.6875   NaN        Q  \n",
            "3  27.0      0      0   315154   8.6625   NaN        S  \n",
            "4  22.0      1      1  3101298  12.2875   NaN        S  \n"
          ]
        }
      ]
    },
    {
      "cell_type": "code",
      "source": [
        "def handle_missing_values(dataframe):\n",
        "    # Impute missing values for 'Age' and 'Fare' with median\n",
        "    imputer = SimpleImputer(strategy='median')\n",
        "    dataframe['Age'] = imputer.fit_transform(dataframe[['Age']])\n",
        "    dataframe['Fare'] = imputer.fit_transform(dataframe[['Fare']])\n",
        "\n",
        "    # Impute missing values for 'Embarked' with mode\n",
        "    dataframe['Embarked'].fillna(dataframe['Embarked'].mode()[0], inplace=True)\n",
        "\n",
        "    # Drop the 'Cabin' column due to high percentage of missing values\n",
        "    if 'Cabin' in dataframe.columns:\n",
        "        dataframe.drop('Cabin', axis=1, inplace=True)\n",
        "\n",
        "    return dataframe\n",
        "\n",
        "train_df = handle_missing_values(train_df)\n",
        "test_df = handle_missing_values(test_df)\n",
        "print(train_df.isnull().sum())\n",
        "print(test_df.isnull().sum())\n"
      ],
      "metadata": {
        "colab": {
          "base_uri": "https://localhost:8080/"
        },
        "id": "aNKSrIoVHtQ1",
        "outputId": "c509c898-29a7-4c15-a037-c22ca89db7f9"
      },
      "execution_count": 3,
      "outputs": [
        {
          "output_type": "stream",
          "name": "stdout",
          "text": [
            "PassengerId    0\n",
            "Survived       0\n",
            "Pclass         0\n",
            "Name           0\n",
            "Sex            0\n",
            "Age            0\n",
            "SibSp          0\n",
            "Parch          0\n",
            "Ticket         0\n",
            "Fare           0\n",
            "Embarked       0\n",
            "dtype: int64\n",
            "PassengerId    0\n",
            "Pclass         0\n",
            "Name           0\n",
            "Sex            0\n",
            "Age            0\n",
            "SibSp          0\n",
            "Parch          0\n",
            "Ticket         0\n",
            "Fare           0\n",
            "Embarked       0\n",
            "dtype: int64\n"
          ]
        }
      ]
    },
    {
      "cell_type": "code",
      "source": [
        "def encode_categorical(dataframe):\n",
        "    # Encode 'Sex' column\n",
        "    dataframe['Sex'] = dataframe['Sex'].map({'male': 0, 'female': 1})\n",
        "\n",
        "    # One-hot encode 'Embarked' column\n",
        "    dataframe = pd.get_dummies(dataframe, columns=['Embarked'], drop_first=True)\n",
        "\n",
        "    return dataframe\n",
        "\n",
        "train_df = encode_categorical(train_df)\n",
        "test_df = encode_categorical(test_df)\n",
        "print(train_df.head())\n",
        "print(test_df.head())\n"
      ],
      "metadata": {
        "colab": {
          "base_uri": "https://localhost:8080/"
        },
        "id": "YgMnr3u_HvxD",
        "outputId": "95adea02-6bdf-429b-d197-2b0cd58151e9"
      },
      "execution_count": 4,
      "outputs": [
        {
          "output_type": "stream",
          "name": "stdout",
          "text": [
            "   PassengerId  Survived  Pclass  \\\n",
            "0            1         0       3   \n",
            "1            2         1       1   \n",
            "2            3         1       3   \n",
            "3            4         1       1   \n",
            "4            5         0       3   \n",
            "\n",
            "                                                Name  Sex   Age  SibSp  Parch  \\\n",
            "0                            Braund, Mr. Owen Harris    0  22.0      1      0   \n",
            "1  Cumings, Mrs. John Bradley (Florence Briggs Th...    1  38.0      1      0   \n",
            "2                             Heikkinen, Miss. Laina    1  26.0      0      0   \n",
            "3       Futrelle, Mrs. Jacques Heath (Lily May Peel)    1  35.0      1      0   \n",
            "4                           Allen, Mr. William Henry    0  35.0      0      0   \n",
            "\n",
            "             Ticket     Fare  Embarked_Q  Embarked_S  \n",
            "0         A/5 21171   7.2500       False        True  \n",
            "1          PC 17599  71.2833       False       False  \n",
            "2  STON/O2. 3101282   7.9250       False        True  \n",
            "3            113803  53.1000       False        True  \n",
            "4            373450   8.0500       False        True  \n",
            "   PassengerId  Pclass                                          Name  Sex  \\\n",
            "0          892       3                              Kelly, Mr. James    0   \n",
            "1          893       3              Wilkes, Mrs. James (Ellen Needs)    1   \n",
            "2          894       2                     Myles, Mr. Thomas Francis    0   \n",
            "3          895       3                              Wirz, Mr. Albert    0   \n",
            "4          896       3  Hirvonen, Mrs. Alexander (Helga E Lindqvist)    1   \n",
            "\n",
            "    Age  SibSp  Parch   Ticket     Fare  Embarked_Q  Embarked_S  \n",
            "0  34.5      0      0   330911   7.8292        True       False  \n",
            "1  47.0      1      0   363272   7.0000       False        True  \n",
            "2  62.0      0      0   240276   9.6875        True       False  \n",
            "3  27.0      0      0   315154   8.6625       False        True  \n",
            "4  22.0      1      1  3101298  12.2875       False        True  \n"
          ]
        }
      ]
    },
    {
      "cell_type": "code",
      "source": [
        "def generate_features(dataframe):\n",
        "    # Create a new feature 'FamilySize'\n",
        "    dataframe['FamilySize'] = dataframe['SibSp'] + dataframe['Parch'] + 1\n",
        "\n",
        "    # Create a new feature 'IsAlone'\n",
        "    dataframe['IsAlone'] = 1\n",
        "    dataframe['IsAlone'].loc[dataframe['FamilySize'] > 1] = 0\n",
        "\n",
        "    # Create a new feature 'Title' from 'Name'\n",
        "    dataframe['Title'] = dataframe['Name'].apply(lambda x: x.split(',')[1].split('.')[0].strip())\n",
        "    # Simplify titles\n",
        "    dataframe['Title'] = dataframe['Title'].replace(['Lady', 'the Countess','Countess','Capt', 'Col','Don', 'Dr',\n",
        "                                                     'Major', 'Rev', 'Sir', 'Jonkheer', 'Dona'], 'Rare')\n",
        "    dataframe['Title'] = dataframe['Title'].replace('Mlle', 'Miss')\n",
        "    dataframe['Title'] = dataframe['Title'].replace('Ms', 'Miss')\n",
        "    dataframe['Title'] = dataframe['Title'].replace('Mme', 'Mrs')\n",
        "    dataframe = pd.get_dummies(dataframe, columns=['Title'], drop_first=True)\n",
        "\n",
        "    return dataframe\n",
        "\n",
        "train_df = generate_features(train_df)\n",
        "test_df = generate_features(test_df)\n",
        "print(train_df.head())\n",
        "print(test_df.head())\n"
      ],
      "metadata": {
        "colab": {
          "base_uri": "https://localhost:8080/"
        },
        "id": "JYozdDk_HyYl",
        "outputId": "6200df04-89c0-4c90-ff5f-49e6b4666698"
      },
      "execution_count": 5,
      "outputs": [
        {
          "output_type": "stream",
          "name": "stdout",
          "text": [
            "   PassengerId  Survived  Pclass  \\\n",
            "0            1         0       3   \n",
            "1            2         1       1   \n",
            "2            3         1       3   \n",
            "3            4         1       1   \n",
            "4            5         0       3   \n",
            "\n",
            "                                                Name  Sex   Age  SibSp  Parch  \\\n",
            "0                            Braund, Mr. Owen Harris    0  22.0      1      0   \n",
            "1  Cumings, Mrs. John Bradley (Florence Briggs Th...    1  38.0      1      0   \n",
            "2                             Heikkinen, Miss. Laina    1  26.0      0      0   \n",
            "3       Futrelle, Mrs. Jacques Heath (Lily May Peel)    1  35.0      1      0   \n",
            "4                           Allen, Mr. William Henry    0  35.0      0      0   \n",
            "\n",
            "             Ticket     Fare  Embarked_Q  Embarked_S  FamilySize  IsAlone  \\\n",
            "0         A/5 21171   7.2500       False        True           2        0   \n",
            "1          PC 17599  71.2833       False       False           2        0   \n",
            "2  STON/O2. 3101282   7.9250       False        True           1        1   \n",
            "3            113803  53.1000       False        True           2        0   \n",
            "4            373450   8.0500       False        True           1        1   \n",
            "\n",
            "   Title_Miss  Title_Mr  Title_Mrs  Title_Rare  \n",
            "0       False      True      False       False  \n",
            "1       False     False       True       False  \n",
            "2        True     False      False       False  \n",
            "3       False     False       True       False  \n",
            "4       False      True      False       False  \n",
            "   PassengerId  Pclass                                          Name  Sex  \\\n",
            "0          892       3                              Kelly, Mr. James    0   \n",
            "1          893       3              Wilkes, Mrs. James (Ellen Needs)    1   \n",
            "2          894       2                     Myles, Mr. Thomas Francis    0   \n",
            "3          895       3                              Wirz, Mr. Albert    0   \n",
            "4          896       3  Hirvonen, Mrs. Alexander (Helga E Lindqvist)    1   \n",
            "\n",
            "    Age  SibSp  Parch   Ticket     Fare  Embarked_Q  Embarked_S  FamilySize  \\\n",
            "0  34.5      0      0   330911   7.8292        True       False           1   \n",
            "1  47.0      1      0   363272   7.0000       False        True           2   \n",
            "2  62.0      0      0   240276   9.6875        True       False           1   \n",
            "3  27.0      0      0   315154   8.6625       False        True           1   \n",
            "4  22.0      1      1  3101298  12.2875       False        True           3   \n",
            "\n",
            "   IsAlone  Title_Miss  Title_Mr  Title_Mrs  Title_Rare  \n",
            "0        1       False      True      False       False  \n",
            "1        0       False     False       True       False  \n",
            "2        1       False      True      False       False  \n",
            "3        1       False      True      False       False  \n",
            "4        0       False     False       True       False  \n"
          ]
        },
        {
          "output_type": "stream",
          "name": "stderr",
          "text": [
            "<ipython-input-5-abddf91401af>:7: SettingWithCopyWarning: \n",
            "A value is trying to be set on a copy of a slice from a DataFrame\n",
            "\n",
            "See the caveats in the documentation: https://pandas.pydata.org/pandas-docs/stable/user_guide/indexing.html#returning-a-view-versus-a-copy\n",
            "  dataframe['IsAlone'].loc[dataframe['FamilySize'] > 1] = 0\n",
            "<ipython-input-5-abddf91401af>:7: SettingWithCopyWarning: \n",
            "A value is trying to be set on a copy of a slice from a DataFrame\n",
            "\n",
            "See the caveats in the documentation: https://pandas.pydata.org/pandas-docs/stable/user_guide/indexing.html#returning-a-view-versus-a-copy\n",
            "  dataframe['IsAlone'].loc[dataframe['FamilySize'] > 1] = 0\n"
          ]
        }
      ]
    },
    {
      "cell_type": "code",
      "source": [
        "def scale_numerical(train_df, test_df):\n",
        "    scaler = StandardScaler()\n",
        "    numerical_cols = ['Age', 'Fare', 'FamilySize']\n",
        "\n",
        "    # Fit scaler on training data and transform both train and test data\n",
        "    train_df[numerical_cols] = scaler.fit_transform(train_df[numerical_cols])\n",
        "    test_df[numerical_cols] = scaler.transform(test_df[numerical_cols])\n",
        "\n",
        "    return train_df, test_df\n",
        "\n",
        "train_df, test_df = scale_numerical(train_df, test_df)\n",
        "print(train_df.head())\n",
        "print(test_df.head())\n"
      ],
      "metadata": {
        "colab": {
          "base_uri": "https://localhost:8080/"
        },
        "id": "AVSPOJOhHzwE",
        "outputId": "6742fe2f-a59f-48f8-dfda-68fb5ddc8e1c"
      },
      "execution_count": 6,
      "outputs": [
        {
          "output_type": "stream",
          "name": "stdout",
          "text": [
            "   PassengerId  Survived  Pclass  \\\n",
            "0            1         0       3   \n",
            "1            2         1       1   \n",
            "2            3         1       3   \n",
            "3            4         1       1   \n",
            "4            5         0       3   \n",
            "\n",
            "                                                Name  Sex       Age  SibSp  \\\n",
            "0                            Braund, Mr. Owen Harris    0 -0.565736      1   \n",
            "1  Cumings, Mrs. John Bradley (Florence Briggs Th...    1  0.663861      1   \n",
            "2                             Heikkinen, Miss. Laina    1 -0.258337      0   \n",
            "3       Futrelle, Mrs. Jacques Heath (Lily May Peel)    1  0.433312      1   \n",
            "4                           Allen, Mr. William Henry    0  0.433312      0   \n",
            "\n",
            "   Parch            Ticket      Fare  Embarked_Q  Embarked_S  FamilySize  \\\n",
            "0      0         A/5 21171 -0.502445       False        True    0.059160   \n",
            "1      0          PC 17599  0.786845       False       False    0.059160   \n",
            "2      0  STON/O2. 3101282 -0.488854       False        True   -0.560975   \n",
            "3      0            113803  0.420730       False        True    0.059160   \n",
            "4      0            373450 -0.486337       False        True   -0.560975   \n",
            "\n",
            "   IsAlone  Title_Miss  Title_Mr  Title_Mrs  Title_Rare  \n",
            "0        0       False      True      False       False  \n",
            "1        0       False     False       True       False  \n",
            "2        1        True     False      False       False  \n",
            "3        0       False     False       True       False  \n",
            "4        1       False      True      False       False  \n",
            "   PassengerId  Pclass                                          Name  Sex  \\\n",
            "0          892       3                              Kelly, Mr. James    0   \n",
            "1          893       3              Wilkes, Mrs. James (Ellen Needs)    1   \n",
            "2          894       2                     Myles, Mr. Thomas Francis    0   \n",
            "3          895       3                              Wirz, Mr. Albert    0   \n",
            "4          896       3  Hirvonen, Mrs. Alexander (Helga E Lindqvist)    1   \n",
            "\n",
            "        Age  SibSp  Parch   Ticket      Fare  Embarked_Q  Embarked_S  \\\n",
            "0  0.394887      0      0   330911 -0.490783        True       False   \n",
            "1  1.355510      1      0   363272 -0.507479       False        True   \n",
            "2  2.508257      0      0   240276 -0.453367        True       False   \n",
            "3 -0.181487      0      0   315154 -0.474005       False        True   \n",
            "4 -0.565736      1      1  3101298 -0.401017       False        True   \n",
            "\n",
            "   FamilySize  IsAlone  Title_Miss  Title_Mr  Title_Mrs  Title_Rare  \n",
            "0   -0.560975        1       False      True      False       False  \n",
            "1    0.059160        0       False     False       True       False  \n",
            "2   -0.560975        1       False      True      False       False  \n",
            "3   -0.560975        1       False      True      False       False  \n",
            "4    0.679295        0       False     False       True       False  \n"
          ]
        }
      ]
    },
    {
      "cell_type": "code",
      "source": [
        "def prepare_data_for_modeling(train_df, test_df):\n",
        "    # Drop columns that won't be used for prediction\n",
        "    train_df.drop(['PassengerId', 'Name', 'Ticket'], axis=1, inplace=True)\n",
        "    test_df.drop(['Name', 'Ticket'], axis=1, inplace=True)\n",
        "\n",
        "    # Align test dataset with train dataset\n",
        "    test_df = test_df.reindex(columns=train_df.columns, fill_value=0)\n",
        "\n",
        "    # Separate features and target\n",
        "    X_train = train_df.drop('Survived', axis=1)\n",
        "    y_train = train_df['Survived']\n",
        "\n",
        "    X_test = test_df.drop('Survived', axis=1)  # Test set doesn't have 'Survived', but it's aligned\n",
        "\n",
        "    return X_train, X_test, y_train\n",
        "\n",
        "X_train, X_test, y_train = prepare_data_for_modeling(train_df, test_df)\n",
        "print(X_train.shape, X_test.shape, y_train.shape)\n"
      ],
      "metadata": {
        "colab": {
          "base_uri": "https://localhost:8080/"
        },
        "id": "ByGEYHucH2nU",
        "outputId": "0a639c5a-92b3-4b51-eac6-d255a3d730e4"
      },
      "execution_count": 7,
      "outputs": [
        {
          "output_type": "stream",
          "name": "stdout",
          "text": [
            "(891, 14) (418, 14) (891,)\n"
          ]
        }
      ]
    },
    {
      "cell_type": "code",
      "source": [],
      "metadata": {
        "id": "DvRqJ9KyH5LI"
      },
      "execution_count": null,
      "outputs": []
    }
  ]
}